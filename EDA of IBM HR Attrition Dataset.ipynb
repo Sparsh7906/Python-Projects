{
 "cells": [
  {
   "cell_type": "markdown",
   "id": "6db951ce",
   "metadata": {},
   "source": [
    "# Exploratory Data Analysis of IBM HR Attrition Dataset"
   ]
  },
  {
   "cell_type": "markdown",
   "id": "0ae08409",
   "metadata": {},
   "source": [
    "Attrition is the process by which a worker departs an organisation due to retirement or resignation. Workers leave the organisation for both personal and professional reasons, such as retirement, reduced career opportunities, decreased job satisfaction, decreased pay rates, unfavourable working conditions, etc. Any firm will experience attrition. When attrition exceeds a certain threshold, it becomes a problem."
   ]
  },
  {
   "cell_type": "markdown",
   "id": "1046416d",
   "metadata": {},
   "source": [
    "The analysis's [dataset](https://www.kaggle.com/datasets/pavansubhasht/ibm-hr-analytics-attrition-dataset) comes from Kaggle. We use Python and modules like pandas, matplotlib, and seaborn to gain insights into the causes of employee attrition. Most of the time in this project, we'll  discuss absolute and percentage values."
   ]
  },
  {
   "cell_type": "markdown",
   "id": "184728c7",
   "metadata": {},
   "source": [
    "#### Importing libraries and loading dataset"
   ]
  },
  {
   "cell_type": "code",
   "execution_count": 1,
   "id": "bf138d8d",
   "metadata": {},
   "outputs": [],
   "source": [
    "# importing necesasary libraries\n",
    "%matplotlib inline\n",
    "from matplotlib import pyplot as plt\n",
    "import seaborn as sns\n",
    "import pandas as pd\n",
    "import numpy as np"
   ]
  },
  {
   "cell_type": "code",
   "execution_count": 2,
   "id": "305d8cc2",
   "metadata": {},
   "outputs": [
    {
     "data": {
      "text/html": [
       "<div>\n",
       "<style scoped>\n",
       "    .dataframe tbody tr th:only-of-type {\n",
       "        vertical-align: middle;\n",
       "    }\n",
       "\n",
       "    .dataframe tbody tr th {\n",
       "        vertical-align: top;\n",
       "    }\n",
       "\n",
       "    .dataframe thead th {\n",
       "        text-align: right;\n",
       "    }\n",
       "</style>\n",
       "<table border=\"1\" class=\"dataframe\">\n",
       "  <thead>\n",
       "    <tr style=\"text-align: right;\">\n",
       "      <th></th>\n",
       "      <th>Age</th>\n",
       "      <th>Attrition</th>\n",
       "      <th>BusinessTravel</th>\n",
       "      <th>DailyRate</th>\n",
       "      <th>Department</th>\n",
       "      <th>DistanceFromHome</th>\n",
       "      <th>Education</th>\n",
       "      <th>EducationField</th>\n",
       "      <th>EmployeeCount</th>\n",
       "      <th>EmployeeNumber</th>\n",
       "      <th>...</th>\n",
       "      <th>RelationshipSatisfaction</th>\n",
       "      <th>StandardHours</th>\n",
       "      <th>StockOptionLevel</th>\n",
       "      <th>TotalWorkingYears</th>\n",
       "      <th>TrainingTimesLastYear</th>\n",
       "      <th>WorkLifeBalance</th>\n",
       "      <th>YearsAtCompany</th>\n",
       "      <th>YearsInCurrentRole</th>\n",
       "      <th>YearsSinceLastPromotion</th>\n",
       "      <th>YearsWithCurrManager</th>\n",
       "    </tr>\n",
       "  </thead>\n",
       "  <tbody>\n",
       "    <tr>\n",
       "      <th>0</th>\n",
       "      <td>41</td>\n",
       "      <td>Yes</td>\n",
       "      <td>Travel_Rarely</td>\n",
       "      <td>1102</td>\n",
       "      <td>Sales</td>\n",
       "      <td>1</td>\n",
       "      <td>2</td>\n",
       "      <td>Life Sciences</td>\n",
       "      <td>1</td>\n",
       "      <td>1</td>\n",
       "      <td>...</td>\n",
       "      <td>1</td>\n",
       "      <td>80</td>\n",
       "      <td>0</td>\n",
       "      <td>8</td>\n",
       "      <td>0</td>\n",
       "      <td>1</td>\n",
       "      <td>6</td>\n",
       "      <td>4</td>\n",
       "      <td>0</td>\n",
       "      <td>5</td>\n",
       "    </tr>\n",
       "    <tr>\n",
       "      <th>1</th>\n",
       "      <td>49</td>\n",
       "      <td>No</td>\n",
       "      <td>Travel_Frequently</td>\n",
       "      <td>279</td>\n",
       "      <td>Research &amp; Development</td>\n",
       "      <td>8</td>\n",
       "      <td>1</td>\n",
       "      <td>Life Sciences</td>\n",
       "      <td>1</td>\n",
       "      <td>2</td>\n",
       "      <td>...</td>\n",
       "      <td>4</td>\n",
       "      <td>80</td>\n",
       "      <td>1</td>\n",
       "      <td>10</td>\n",
       "      <td>3</td>\n",
       "      <td>3</td>\n",
       "      <td>10</td>\n",
       "      <td>7</td>\n",
       "      <td>1</td>\n",
       "      <td>7</td>\n",
       "    </tr>\n",
       "    <tr>\n",
       "      <th>2</th>\n",
       "      <td>37</td>\n",
       "      <td>Yes</td>\n",
       "      <td>Travel_Rarely</td>\n",
       "      <td>1373</td>\n",
       "      <td>Research &amp; Development</td>\n",
       "      <td>2</td>\n",
       "      <td>2</td>\n",
       "      <td>Other</td>\n",
       "      <td>1</td>\n",
       "      <td>4</td>\n",
       "      <td>...</td>\n",
       "      <td>2</td>\n",
       "      <td>80</td>\n",
       "      <td>0</td>\n",
       "      <td>7</td>\n",
       "      <td>3</td>\n",
       "      <td>3</td>\n",
       "      <td>0</td>\n",
       "      <td>0</td>\n",
       "      <td>0</td>\n",
       "      <td>0</td>\n",
       "    </tr>\n",
       "    <tr>\n",
       "      <th>3</th>\n",
       "      <td>33</td>\n",
       "      <td>No</td>\n",
       "      <td>Travel_Frequently</td>\n",
       "      <td>1392</td>\n",
       "      <td>Research &amp; Development</td>\n",
       "      <td>3</td>\n",
       "      <td>4</td>\n",
       "      <td>Life Sciences</td>\n",
       "      <td>1</td>\n",
       "      <td>5</td>\n",
       "      <td>...</td>\n",
       "      <td>3</td>\n",
       "      <td>80</td>\n",
       "      <td>0</td>\n",
       "      <td>8</td>\n",
       "      <td>3</td>\n",
       "      <td>3</td>\n",
       "      <td>8</td>\n",
       "      <td>7</td>\n",
       "      <td>3</td>\n",
       "      <td>0</td>\n",
       "    </tr>\n",
       "    <tr>\n",
       "      <th>4</th>\n",
       "      <td>27</td>\n",
       "      <td>No</td>\n",
       "      <td>Travel_Rarely</td>\n",
       "      <td>591</td>\n",
       "      <td>Research &amp; Development</td>\n",
       "      <td>2</td>\n",
       "      <td>1</td>\n",
       "      <td>Medical</td>\n",
       "      <td>1</td>\n",
       "      <td>7</td>\n",
       "      <td>...</td>\n",
       "      <td>4</td>\n",
       "      <td>80</td>\n",
       "      <td>1</td>\n",
       "      <td>6</td>\n",
       "      <td>3</td>\n",
       "      <td>3</td>\n",
       "      <td>2</td>\n",
       "      <td>2</td>\n",
       "      <td>2</td>\n",
       "      <td>2</td>\n",
       "    </tr>\n",
       "  </tbody>\n",
       "</table>\n",
       "<p>5 rows × 35 columns</p>\n",
       "</div>"
      ],
      "text/plain": [
       "   Age Attrition     BusinessTravel  DailyRate              Department  \\\n",
       "0   41       Yes      Travel_Rarely       1102                   Sales   \n",
       "1   49        No  Travel_Frequently        279  Research & Development   \n",
       "2   37       Yes      Travel_Rarely       1373  Research & Development   \n",
       "3   33        No  Travel_Frequently       1392  Research & Development   \n",
       "4   27        No      Travel_Rarely        591  Research & Development   \n",
       "\n",
       "   DistanceFromHome  Education EducationField  EmployeeCount  EmployeeNumber  \\\n",
       "0                 1          2  Life Sciences              1               1   \n",
       "1                 8          1  Life Sciences              1               2   \n",
       "2                 2          2          Other              1               4   \n",
       "3                 3          4  Life Sciences              1               5   \n",
       "4                 2          1        Medical              1               7   \n",
       "\n",
       "   ...  RelationshipSatisfaction StandardHours  StockOptionLevel  \\\n",
       "0  ...                         1            80                 0   \n",
       "1  ...                         4            80                 1   \n",
       "2  ...                         2            80                 0   \n",
       "3  ...                         3            80                 0   \n",
       "4  ...                         4            80                 1   \n",
       "\n",
       "   TotalWorkingYears  TrainingTimesLastYear WorkLifeBalance  YearsAtCompany  \\\n",
       "0                  8                      0               1               6   \n",
       "1                 10                      3               3              10   \n",
       "2                  7                      3               3               0   \n",
       "3                  8                      3               3               8   \n",
       "4                  6                      3               3               2   \n",
       "\n",
       "  YearsInCurrentRole  YearsSinceLastPromotion  YearsWithCurrManager  \n",
       "0                  4                        0                     5  \n",
       "1                  7                        1                     7  \n",
       "2                  0                        0                     0  \n",
       "3                  7                        3                     0  \n",
       "4                  2                        2                     2  \n",
       "\n",
       "[5 rows x 35 columns]"
      ]
     },
     "execution_count": 2,
     "metadata": {},
     "output_type": "execute_result"
    }
   ],
   "source": [
    "# Loading Data and displaying top 5 rows\n",
    "data = pd.read_csv(\"HR_Employee_Attrition.csv\")\n",
    "data.head()"
   ]
  },
  {
   "cell_type": "code",
   "execution_count": 3,
   "id": "467bf53f",
   "metadata": {},
   "outputs": [
    {
     "name": "stdout",
     "output_type": "stream",
     "text": [
      "<class 'pandas.core.frame.DataFrame'>\n",
      "RangeIndex: 1470 entries, 0 to 1469\n",
      "Data columns (total 35 columns):\n",
      " #   Column                    Non-Null Count  Dtype \n",
      "---  ------                    --------------  ----- \n",
      " 0   Age                       1470 non-null   int64 \n",
      " 1   Attrition                 1470 non-null   object\n",
      " 2   BusinessTravel            1470 non-null   object\n",
      " 3   DailyRate                 1470 non-null   int64 \n",
      " 4   Department                1470 non-null   object\n",
      " 5   DistanceFromHome          1470 non-null   int64 \n",
      " 6   Education                 1470 non-null   int64 \n",
      " 7   EducationField            1470 non-null   object\n",
      " 8   EmployeeCount             1470 non-null   int64 \n",
      " 9   EmployeeNumber            1470 non-null   int64 \n",
      " 10  EnvironmentSatisfaction   1470 non-null   int64 \n",
      " 11  Gender                    1470 non-null   object\n",
      " 12  HourlyRate                1470 non-null   int64 \n",
      " 13  JobInvolvement            1470 non-null   int64 \n",
      " 14  JobLevel                  1470 non-null   int64 \n",
      " 15  JobRole                   1470 non-null   object\n",
      " 16  JobSatisfaction           1470 non-null   int64 \n",
      " 17  MaritalStatus             1470 non-null   object\n",
      " 18  MonthlyIncome             1470 non-null   int64 \n",
      " 19  MonthlyRate               1470 non-null   int64 \n",
      " 20  NumCompaniesWorked        1470 non-null   int64 \n",
      " 21  Over18                    1470 non-null   object\n",
      " 22  OverTime                  1470 non-null   object\n",
      " 23  PercentSalaryHike         1470 non-null   int64 \n",
      " 24  PerformanceRating         1470 non-null   int64 \n",
      " 25  RelationshipSatisfaction  1470 non-null   int64 \n",
      " 26  StandardHours             1470 non-null   int64 \n",
      " 27  StockOptionLevel          1470 non-null   int64 \n",
      " 28  TotalWorkingYears         1470 non-null   int64 \n",
      " 29  TrainingTimesLastYear     1470 non-null   int64 \n",
      " 30  WorkLifeBalance           1470 non-null   int64 \n",
      " 31  YearsAtCompany            1470 non-null   int64 \n",
      " 32  YearsInCurrentRole        1470 non-null   int64 \n",
      " 33  YearsSinceLastPromotion   1470 non-null   int64 \n",
      " 34  YearsWithCurrManager      1470 non-null   int64 \n",
      "dtypes: int64(26), object(9)\n",
      "memory usage: 402.1+ KB\n"
     ]
    }
   ],
   "source": [
    "#Summary Stats\n",
    "data.info()"
   ]
  },
  {
   "cell_type": "markdown",
   "id": "17dec239",
   "metadata": {},
   "source": [
    "#### Observation:\n",
    "There are 26 variables which are integers(some of the categorical variables are represented in integer format) and 9 variables that are of string datatype."
   ]
  },
  {
   "cell_type": "markdown",
   "id": "5a7f0ab4",
   "metadata": {},
   "source": [
    "### Attrition percentage"
   ]
  },
  {
   "cell_type": "code",
   "execution_count": 64,
   "id": "ffafd1ce",
   "metadata": {},
   "outputs": [
    {
     "name": "stdout",
     "output_type": "stream",
     "text": [
      "16.12% of the employees resigned/retired\n"
     ]
    },
    {
     "data": {
      "text/plain": [
       "<seaborn.axisgrid.FacetGrid at 0x21f14a145e0>"
      ]
     },
     "execution_count": 64,
     "metadata": {},
     "output_type": "execute_result"
    },
    {
     "data": {
      "image/png": "[encoded data removed]",
      "text/plain": [
       "<Figure size 360x360 with 1 Axes>"
      ]
     },
     "metadata": {
      "needs_background": "light"
     },
     "output_type": "display_data"
    }
   ],
   "source": [
    "#Attrition percentage\n",
    "print(\"{:.2f}% of the employees resigned/retired\".format(data[\"Attrition\"].value_counts()[\"Yes\"]/len(data[\"Attrition\"])*100))\n",
    "sns.displot(data = data, x = \"Attrition\")"
   ]
  },
  {
   "cell_type": "markdown",
   "id": "78d492b2",
   "metadata": {},
   "source": [
    "#### Observation: \n",
    "The attrition percentage is 16.12% in our dataset, which varies for different companies."
   ]
  },
  {
   "cell_type": "markdown",
   "id": "b11955e2",
   "metadata": {},
   "source": [
    "### Gender"
   ]
  },
  {
   "cell_type": "code",
   "execution_count": 69,
   "id": "df71ed32",
   "metadata": {},
   "outputs": [
    {
     "name": "stdout",
     "output_type": "stream",
     "text": [
      "Gender  Attrition\n",
      "Female  No           501\n",
      "        Yes           87\n",
      "Male    No           732\n",
      "        Yes          150\n",
      "Name: Attrition, dtype: int64\n"
     ]
    },
    {
     "data": {
      "text/plain": [
       "<seaborn.axisgrid.FacetGrid at 0x21f14aa5820>"
      ]
     },
     "execution_count": 69,
     "metadata": {},
     "output_type": "execute_result"
    },
    {
     "data": {
      "image/png": "[encoded data removed]",
      "text/plain": [
       "<Figure size 412x360 with 1 Axes>"
      ]
     },
     "metadata": {
      "needs_background": "light"
     },
     "output_type": "display_data"
    }
   ],
   "source": [
    "groupby_Gender = data.groupby(\"Gender\")[\"Attrition\"]\n",
    "print(groupby_Gender.value_counts())\n",
    "sns.displot(data = data, x = \"Gender\", hue = \"Attrition\", palette ='viridis')"
   ]
  },
  {
   "cell_type": "code",
   "execution_count": 70,
   "id": "b0463d48",
   "metadata": {},
   "outputs": [
    {
     "name": "stdout",
     "output_type": "stream",
     "text": [
      "\n",
      "Of the total employees resigned/retired, 36.71% are Female\n",
      "Of the total employees resigned/retired, 63.29% are Male\n",
      "Of the total Male employees, 17.01% resigned/retired\n",
      "Of the total Female employees, 14.80% resigned/retired\n"
     ]
    }
   ],
   "source": [
    "print(\"\\nOf the total employees resigned/retired, {:.2f}% are Female\".format(\n",
    "    groupby_Gender.value_counts()[\"Female\"][\"Yes\"]/\n",
    "    (groupby_Gender.value_counts()[\"Female\"][\"Yes\"] + groupby_Gender.value_counts()[\"Male\"][\"Yes\"])*100))\n",
    "\n",
    "print(\"Of the total employees resigned/retired, {:.2f}% are Male\".format(\n",
    "    groupby_Gender.value_counts()[\"Male\"][\"Yes\"]/\n",
    "    (groupby_Gender.value_counts()[\"Female\"][\"Yes\"] + groupby_Gender.value_counts()[\"Male\"][\"Yes\"])*100))\n",
    "\n",
    "print(\"Of the total Male employees, {:.2f}% resigned/retired\".format(\n",
    "    groupby_Gender.value_counts()[\"Male\"][\"Yes\"]/data[\"Gender\"].value_counts()[\"Male\"]*100))\n",
    "\n",
    "print(\"Of the total Female employees, {:.2f}% resigned/retired\".format(\n",
    "    groupby_Gender.value_counts()[\"Female\"][\"Yes\"]/data[\"Gender\"].value_counts()[\"Female\"]*100))"
   ]
  },
  {
   "cell_type": "markdown",
   "id": "0adab2d8",
   "metadata": {},
   "source": [
    "#### Observation:\n",
    "Considering both absolute and percentage values, Male attrition is more than Female attrition."
   ]
  },
  {
   "cell_type": "markdown",
   "id": "0f8eae46",
   "metadata": {},
   "source": [
    "### Business Travel"
   ]
  },
  {
   "cell_type": "code",
   "execution_count": 72,
   "id": "a4119069",
   "metadata": {},
   "outputs": [
    {
     "name": "stdout",
     "output_type": "stream",
     "text": [
      "Attrition  BusinessTravel   \n",
      "No         Travel_Rarely        887\n",
      "           Travel_Frequently    208\n",
      "           Non-Travel           138\n",
      "Yes        Travel_Rarely        156\n",
      "           Travel_Frequently     69\n",
      "           Non-Travel            12\n",
      "Name: BusinessTravel, dtype: int64\n"
     ]
    },
    {
     "data": {
      "text/plain": [
       "<seaborn.axisgrid.FacetGrid at 0x21f15ccc6a0>"
      ]
     },
     "execution_count": 72,
     "metadata": {},
     "output_type": "execute_result"
    },
    {
     "data": {
      "image/png": "[encoded data removed]",
      "text/plain": [
       "<Figure size 412x360 with 1 Axes>"
      ]
     },
     "metadata": {
      "needs_background": "light"
     },
     "output_type": "display_data"
    }
   ],
   "source": [
    "groupby_BusinessTravel = data.groupby(\"Attrition\")[\"BusinessTravel\"]\n",
    "print(groupby_BusinessTravel.value_counts())\n",
    "sns.displot(data = data, x = \"BusinessTravel\", hue = \"Attrition\")"
   ]
  },
  {
   "cell_type": "markdown",
   "id": "be5f68da",
   "metadata": {},
   "source": [
    "#### Observation:\n",
    "Considering absolute values, employees traveling rarely resigned/retired mostly (156 employes) and when percentage values are considered, employees traveling frequently resigned/retired mostly (around 25%)."
   ]
  },
  {
   "cell_type": "markdown",
   "id": "5f2804e2",
   "metadata": {},
   "source": [
    "### Age"
   ]
  },
  {
   "cell_type": "code",
   "execution_count": 74,
   "id": "edcc1f2d",
   "metadata": {},
   "outputs": [
    {
     "data": {
      "text/plain": [
       "count    1470.000000\n",
       "mean       36.923810\n",
       "std         9.135373\n",
       "min        18.000000\n",
       "25%        30.000000\n",
       "50%        36.000000\n",
       "75%        43.000000\n",
       "max        60.000000\n",
       "Name: Age, dtype: float64"
      ]
     },
     "execution_count": 74,
     "metadata": {},
     "output_type": "execute_result"
    }
   ],
   "source": [
    "data['Age'].describe()"
   ]
  },
  {
   "cell_type": "markdown",
   "id": "a700e26d",
   "metadata": {},
   "source": [
    "Minimum and Maximum age of the workforce is 18 and 60 years respectively."
   ]
  },
  {
   "cell_type": "code",
   "execution_count": 80,
   "id": "1862895a",
   "metadata": {},
   "outputs": [
    {
     "data": {
      "text/plain": [
       "<AxesSubplot:xlabel='Age', ylabel='Count'>"
      ]
     },
     "execution_count": 80,
     "metadata": {},
     "output_type": "execute_result"
    },
    {
     "data": {
      "image/png": "[encoded data removed]",
      "text/plain": [
       "<Figure size 432x288 with 1 Axes>"
      ]
     },
     "metadata": {
      "needs_background": "light"
     },
     "output_type": "display_data"
    }
   ],
   "source": [
    "plt.figure()\n",
    "sns.histplot(data = data, x = \"Age\", bins = 7)"
   ]
  },
  {
   "cell_type": "markdown",
   "id": "05fca1ee",
   "metadata": {},
   "source": [
    "#### Observation:\n",
    "From above histogram, we can get to know that most of the employees fall in the working age between 24 and 48."
   ]
  },
  {
   "cell_type": "code",
   "execution_count": 82,
   "id": "ecd6f852",
   "metadata": {},
   "outputs": [
    {
     "data": {
      "text/plain": [
       "<AxesSubplot:xlabel='Age', ylabel='Count'>"
      ]
     },
     "execution_count": 82,
     "metadata": {},
     "output_type": "execute_result"
    },
    {
     "data": {
      "image/png": "[encoded data removed]",
      "text/plain": [
       "<Figure size 432x288 with 1 Axes>"
      ]
     },
     "metadata": {
      "needs_background": "light"
     },
     "output_type": "display_data"
    },
    {
     "data": {
      "image/png": "[encoded data removed]",
      "text/plain": [
       "<Figure size 432x288 with 1 Axes>"
      ]
     },
     "metadata": {
      "needs_background": "light"
     },
     "output_type": "display_data"
    }
   ],
   "source": [
    "plt.figure()\n",
    "sns.histplot(data = data, x = \"Age\", bins = 3, hue = \"Attrition\")\n",
    "plt.figure()\n",
    "sns.histplot(data = data, x = \"Age\", bins = 7, hue = \"Attrition\")"
   ]
  },
  {
   "cell_type": "markdown",
   "id": "ea77747d",
   "metadata": {},
   "source": [
    "#### Observation:\n",
    "From the histplot (where bins = 3), we can infer that absolute (more than 100 employees) and percentage values (around 33%) of employees are resigning whose age is less than 32. If this percentage value (around 33%) is greater than the industry average then this should be a cause of worry and the top-level management should try to bring this down by retaining the workforce.\n",
    "From the histplot (where bins = 7), we can infer that around 45 out of 50 the employees whose age is less than 24 resign. This number should also be a cause of worry for top-level management."
   ]
  },
  {
   "cell_type": "markdown",
   "id": "dbbd5dd0",
   "metadata": {},
   "source": [
    "### Education"
   ]
  },
  {
   "cell_type": "markdown",
   "id": "8c2aefe1",
   "metadata": {},
   "source": [
    "1. 'Below College'\n",
    "2. 'College'\n",
    "3. 'Bachelor'\n",
    "4. 'Master'\n",
    "5. 'Doctor'"
   ]
  },
  {
   "cell_type": "code",
   "execution_count": 98,
   "id": "b1789b1c",
   "metadata": {},
   "outputs": [
    {
     "name": "stdout",
     "output_type": "stream",
     "text": [
      "Education\n",
      "3    41.772152\n",
      "4    24.472574\n",
      "2    18.565401\n",
      "1    13.080169\n",
      "5     2.109705\n",
      "Name: Education, dtype: float64\n",
      "\n",
      "Of the total employees, 38.91% has Bachelor Degree\n",
      "Of the total employees resigned/retired, 41.77% were Undergraduates\n"
     ]
    },
    {
     "data": {
      "text/plain": [
       "<seaborn.axisgrid.FacetGrid at 0x21f17eb8700>"
      ]
     },
     "execution_count": 98,
     "metadata": {},
     "output_type": "execute_result"
    },
    {
     "data": {
      "image/png": "[encoded data removed]",
      "text/plain": [
       "<Figure size 412x360 with 1 Axes>"
      ]
     },
     "metadata": {
      "needs_background": "light"
     },
     "output_type": "display_data"
    }
   ],
   "source": [
    "#Grouping Attrition by Education\n",
    "gropuby_Education = data.groupby(\"Attrition\")[\"Education\"]\n",
    "#Showing the Percentage Attrition for different Education Level\n",
    "print(100*gropuby_Education.value_counts()[\"Yes\"]/sum(gropuby_Education.value_counts()[\"Yes\"]))\n",
    "\n",
    "print(\"\\nOf the total employees, {:.2f}% has Bachelor Degree\".format(\n",
    "    100*(gropuby_Education.value_counts()[0] + gropuby_Education.value_counts()[5])/sum(gropuby_Education.value_counts())))\n",
    "print(\"Of the total employees resigned/retired, {:.2f}% were Undergraduates\".format(\n",
    "    gropuby_Education.value_counts()[\"Yes\"][3]/sum(gropuby_Education.value_counts()[\"Yes\"])*100))\n",
    "\n",
    "#Plotting the Education on graph\n",
    "sns.displot(data = data, x = \"Education\", hue = \"Attrition\")"
   ]
  },
  {
   "cell_type": "markdown",
   "id": "760ae59f",
   "metadata": {},
   "source": [
    "#### Observation:\n",
    "Around 100 employees with Bachelors Education resigned/retired and around 42% of employees with Bachelor Education resigned/retired."
   ]
  },
  {
   "cell_type": "markdown",
   "id": "ef264cbe",
   "metadata": {},
   "source": [
    "### Daily Rate"
   ]
  },
  {
   "cell_type": "code",
   "execution_count": 108,
   "id": "dea4ae74",
   "metadata": {},
   "outputs": [
    {
     "name": "stdout",
     "output_type": "stream",
     "text": [
      "Minimum DailyRate of employee is 102\n",
      "Maximum DailyRate of employee is 1499\n"
     ]
    },
    {
     "data": {
      "text/plain": [
       "<AxesSubplot:xlabel='DailyRate', ylabel='Count'>"
      ]
     },
     "execution_count": 108,
     "metadata": {},
     "output_type": "execute_result"
    },
    {
     "data": {
      "image/png": "[encoded data removed]",
      "text/plain": [
       "<Figure size 432x288 with 1 Axes>"
      ]
     },
     "metadata": {
      "needs_background": "light"
     },
     "output_type": "display_data"
    }
   ],
   "source": [
    "#Some Stats\n",
    "print(\"Minimum DailyRate of employee is {}\".format(data[\"DailyRate\"].min()))\n",
    "print(\"Maximum DailyRate of employee is {}\".format(data[\"DailyRate\"].max()))\n",
    "\n",
    "#Visualizing Daily rate on Graph\n",
    "plt.figure()\n",
    "sns.histplot(data = data, x = \"DailyRate\", bins = 7, hue = \"Attrition\", palette = 'dark:salmon_r')"
   ]
  },
  {
   "cell_type": "markdown",
   "id": "dfc6ad35",
   "metadata": {},
   "source": [
    "#### Observation:\n",
    "The distribution looks almost uniform. By visual inspection of the above histogram, we can say that employees with a Daily rate in between 300 and 500 resign/retire more when compared to other Daily rates."
   ]
  },
  {
   "cell_type": "markdown",
   "id": "a0366ff4",
   "metadata": {},
   "source": [
    "### Department"
   ]
  },
  {
   "cell_type": "code",
   "execution_count": 128,
   "id": "223e9f0f",
   "metadata": {},
   "outputs": [
    {
     "name": "stdout",
     "output_type": "stream",
     "text": [
      "Attrition  Department            \n",
      "No         Research & Development    828\n",
      "           Sales                     354\n",
      "           Human Resources            51\n",
      "Yes        Research & Development    133\n",
      "           Sales                      92\n",
      "           Human Resources            12\n",
      "Name: Department, dtype: int64\n",
      "Percentage of people retired from Sales Department is 20.63%\n",
      "Percentage of people retired from Human Resources Department is 19.05%\n"
     ]
    },
    {
     "data": {
      "text/plain": [
       "<seaborn.axisgrid.FacetGrid at 0x21f1a5c1f10>"
      ]
     },
     "execution_count": 128,
     "metadata": {},
     "output_type": "execute_result"
    },
    {
     "data": {
      "image/png": "[encoded data removed]",
      "text/plain": [
       "<Figure size 520x468 with 1 Axes>"
      ]
     },
     "metadata": {
      "needs_background": "light"
     },
     "output_type": "display_data"
    }
   ],
   "source": [
    "#Grouping the data on basis of department\n",
    "groupby_Department = data.groupby(\"Attrition\")[\"Department\"]\n",
    "print(groupby_Department.value_counts())\n",
    "\n",
    "#Stats\n",
    "print(\"Percentage of people retired from Sales Department is {:.2f}%\".format(\n",
    "    100*groupby_Department.value_counts()[\"Yes\"][\"Sales\"]/\n",
    "    (groupby_Department.value_counts()[\"No\"][\"Sales\"]+groupby_Department.value_counts()[\"Yes\"][\"Sales\"])))\n",
    "print(\"Percentage of people retired from Human Resources Department is {:.2f}%\".format(\n",
    "    100*groupby_Department.value_counts()[\"Yes\"][\"Human Resources\"]/\n",
    "    (groupby_Department.value_counts()[\"No\"][\"Human Resources\"]+groupby_Department.value_counts()[\"Yes\"][\"Human Resources\"])))\n",
    "\n",
    "\n",
    "#Plotting on Graph\n",
    "sns.displot(data = data, x = \"Department\", hue = \"Attrition\", height = 6.5, palette = 'viridis')"
   ]
  },
  {
   "cell_type": "markdown",
   "id": "e9fdc559",
   "metadata": {},
   "source": [
    "#### Observation: \n",
    "Absolute number (133) of employees resigning/retiring from R&D is more but percentage-wise 20.6% and HR 19% of employees resign/retire from Sales and HR respectively."
   ]
  },
  {
   "cell_type": "markdown",
   "id": "cda09a87",
   "metadata": {},
   "source": [
    "### Job Role"
   ]
  },
  {
   "cell_type": "markdown",
   "id": "24d39472",
   "metadata": {},
   "source": [
    "Let's check the average salary for each job role."
   ]
  },
  {
   "cell_type": "code",
   "execution_count": 130,
   "id": "54e0fce8",
   "metadata": {},
   "outputs": [
    {
     "data": {
      "text/plain": [
       "JobRole\n",
       "Manager                      17181.676471\n",
       "Research Director            16033.550000\n",
       "Healthcare Representative     7528.763359\n",
       "Manufacturing Director        7295.137931\n",
       "Sales Executive               6924.279141\n",
       "Human Resources               4235.750000\n",
       "Research Scientist            3239.972603\n",
       "Laboratory Technician         3237.169884\n",
       "Sales Representative          2626.000000\n",
       "Name: MonthlyIncome, dtype: float64"
      ]
     },
     "execution_count": 130,
     "metadata": {},
     "output_type": "execute_result"
    }
   ],
   "source": [
    "AvgSalary = data['MonthlyIncome'].groupby(data['JobRole']).mean()\n",
    "\n",
    "AvgSalary.sort_values(ascending=False)"
   ]
  },
  {
   "cell_type": "markdown",
   "id": "23f8d501",
   "metadata": {},
   "source": [
    "Let's say we want to the observe the Attrition in Each JobRole and plot them on a graph for better understanding of which job role has higher atrrition rate."
   ]
  },
  {
   "cell_type": "code",
   "execution_count": 142,
   "id": "8a77fb0b",
   "metadata": {},
   "outputs": [
    {
     "data": {
      "text/plain": [
       "<AxesSubplot:xlabel='Attrition', ylabel='JobRole'>"
      ]
     },
     "execution_count": 142,
     "metadata": {},
     "output_type": "execute_result"
    },
    {
     "data": {
      "image/png": "[encoded data removed]",
      "text/plain": [
       "<Figure size 432x288 with 1 Axes>"
      ]
     },
     "metadata": {
      "needs_background": "light"
     },
     "output_type": "display_data"
    }
   ],
   "source": [
    "# Creating seperate dataframes \n",
    "Attrition_count = data['Attrition'][data['Attrition']=='Yes'].groupby(data['JobRole']).count().to_frame()\n",
    "Total_Employee_count = data['JobRole'].groupby(data['JobRole']).count().to_frame()\n",
    "\n",
    "# Merging both dataframes:\n",
    "Employee_attrition_df = Total_Employee_count.merge(Attrition_count,left_index=True,right_index=True)\n",
    "\n",
    "# Ploting the data on a bar graph:\n",
    "\n",
    "sns.barplot(y=Employee_attrition_df.index,\n",
    "            x='JobRole',\n",
    "            data=Employee_attrition_df,\n",
    "            color='blue') \n",
    "\n",
    "sns.barplot(y=Employee_attrition_df.index,\n",
    "            x='Attrition',\n",
    "            data=Employee_attrition_df,\n",
    "            color='yellow') "
   ]
  },
  {
   "cell_type": "code",
   "execution_count": 143,
   "id": "29069653",
   "metadata": {},
   "outputs": [
    {
     "data": {
      "text/html": [
       "<div>\n",
       "<style scoped>\n",
       "    .dataframe tbody tr th:only-of-type {\n",
       "        vertical-align: middle;\n",
       "    }\n",
       "\n",
       "    .dataframe tbody tr th {\n",
       "        vertical-align: top;\n",
       "    }\n",
       "\n",
       "    .dataframe thead th {\n",
       "        text-align: right;\n",
       "    }\n",
       "</style>\n",
       "<table border=\"1\" class=\"dataframe\">\n",
       "  <thead>\n",
       "    <tr style=\"text-align: right;\">\n",
       "      <th></th>\n",
       "      <th>JobRole</th>\n",
       "      <th>Attrition</th>\n",
       "      <th>NetEmployeeCount</th>\n",
       "      <th>PercentageLeftIBM</th>\n",
       "    </tr>\n",
       "    <tr>\n",
       "      <th>JobRole</th>\n",
       "      <th></th>\n",
       "      <th></th>\n",
       "      <th></th>\n",
       "      <th></th>\n",
       "    </tr>\n",
       "  </thead>\n",
       "  <tbody>\n",
       "    <tr>\n",
       "      <th>Healthcare Representative</th>\n",
       "      <td>131</td>\n",
       "      <td>9</td>\n",
       "      <td>122</td>\n",
       "      <td>6.870229</td>\n",
       "    </tr>\n",
       "    <tr>\n",
       "      <th>Human Resources</th>\n",
       "      <td>52</td>\n",
       "      <td>12</td>\n",
       "      <td>40</td>\n",
       "      <td>23.076923</td>\n",
       "    </tr>\n",
       "    <tr>\n",
       "      <th>Laboratory Technician</th>\n",
       "      <td>259</td>\n",
       "      <td>62</td>\n",
       "      <td>197</td>\n",
       "      <td>23.938224</td>\n",
       "    </tr>\n",
       "    <tr>\n",
       "      <th>Manager</th>\n",
       "      <td>102</td>\n",
       "      <td>5</td>\n",
       "      <td>97</td>\n",
       "      <td>4.901961</td>\n",
       "    </tr>\n",
       "    <tr>\n",
       "      <th>Manufacturing Director</th>\n",
       "      <td>145</td>\n",
       "      <td>10</td>\n",
       "      <td>135</td>\n",
       "      <td>6.896552</td>\n",
       "    </tr>\n",
       "    <tr>\n",
       "      <th>Research Director</th>\n",
       "      <td>80</td>\n",
       "      <td>2</td>\n",
       "      <td>78</td>\n",
       "      <td>2.500000</td>\n",
       "    </tr>\n",
       "    <tr>\n",
       "      <th>Research Scientist</th>\n",
       "      <td>292</td>\n",
       "      <td>47</td>\n",
       "      <td>245</td>\n",
       "      <td>16.095890</td>\n",
       "    </tr>\n",
       "    <tr>\n",
       "      <th>Sales Executive</th>\n",
       "      <td>326</td>\n",
       "      <td>57</td>\n",
       "      <td>269</td>\n",
       "      <td>17.484663</td>\n",
       "    </tr>\n",
       "    <tr>\n",
       "      <th>Sales Representative</th>\n",
       "      <td>83</td>\n",
       "      <td>33</td>\n",
       "      <td>50</td>\n",
       "      <td>39.759036</td>\n",
       "    </tr>\n",
       "  </tbody>\n",
       "</table>\n",
       "</div>"
      ],
      "text/plain": [
       "                           JobRole  Attrition  NetEmployeeCount  \\\n",
       "JobRole                                                           \n",
       "Healthcare Representative      131          9               122   \n",
       "Human Resources                 52         12                40   \n",
       "Laboratory Technician          259         62               197   \n",
       "Manager                        102          5                97   \n",
       "Manufacturing Director         145         10               135   \n",
       "Research Director               80          2                78   \n",
       "Research Scientist             292         47               245   \n",
       "Sales Executive                326         57               269   \n",
       "Sales Representative            83         33                50   \n",
       "\n",
       "                           PercentageLeftIBM  \n",
       "JobRole                                       \n",
       "Healthcare Representative           6.870229  \n",
       "Human Resources                    23.076923  \n",
       "Laboratory Technician              23.938224  \n",
       "Manager                             4.901961  \n",
       "Manufacturing Director              6.896552  \n",
       "Research Director                   2.500000  \n",
       "Research Scientist                 16.095890  \n",
       "Sales Executive                    17.484663  \n",
       "Sales Representative               39.759036  "
      ]
     },
     "execution_count": 143,
     "metadata": {},
     "output_type": "execute_result"
    }
   ],
   "source": [
    "# Net Employee Count & Percentage of employees quit in Each JobRole:\n",
    "\n",
    "Employee_attrition_df['NetEmployeeCount'] = Employee_attrition_df['JobRole']-Employee_attrition_df['Attrition']\n",
    "Employee_attrition_df['PercentageLeftIBM'] = Employee_attrition_df['Attrition']/Employee_attrition_df['JobRole']*100\n",
    "\n",
    "Employee_attrition_df "
   ]
  },
  {
   "cell_type": "markdown",
   "id": "40c22c1d",
   "metadata": {},
   "source": [
    "#### Observation:\n",
    "The attrition rate in Research Director and Manager role is seen very less comparitive to other roles, this fact might be supported with an argument that the average pay of these roles is more than other roles. Hence we can say that right pay can incentivize the people to not leave the Organization."
   ]
  },
  {
   "cell_type": "markdown",
   "id": "df0c1b71",
   "metadata": {},
   "source": [
    "### Correlation\n",
    "Let's check the Correlation between Total Years of Experience and Salary of the Employees."
   ]
  },
  {
   "cell_type": "code",
   "execution_count": 144,
   "id": "d955b881",
   "metadata": {},
   "outputs": [
    {
     "name": "stdout",
     "output_type": "stream",
     "text": [
      "Correlation Coefficient is 0.773\n"
     ]
    },
    {
     "data": {
      "image/png": "[encoded data removed]",
      "text/plain": [
       "<Figure size 432x288 with 1 Axes>"
      ]
     },
     "metadata": {
      "needs_background": "light"
     },
     "output_type": "display_data"
    }
   ],
   "source": [
    "#using the scatterplot\n",
    "sns.scatterplot(x='TotalWorkingYears',\n",
    "                y='MonthlyIncome',\n",
    "                data=data,\n",
    "                color='green') \n",
    "\n",
    "# Correlation Coefficient:\n",
    "Coeff = data['TotalWorkingYears'].corr(data['MonthlyIncome'])\n",
    "print('Correlation Coefficient is',round(Coeff,3)) "
   ]
  },
  {
   "cell_type": "markdown",
   "id": "6861de58",
   "metadata": {},
   "source": [
    "#### Observation:\n",
    "Total Working Years and Salary of Employees have a good positive correlation, which means that they are directly propotional also by graphical observation it seems that data has some amount of outliers as well."
   ]
  },
  {
   "cell_type": "markdown",
   "id": "515ed74c",
   "metadata": {},
   "source": [
    "## Conclusion: \n",
    "There are many factors that make an employee resign and using the IBM dataset, some interesting insights were obtained. These insights can be used to build the model."
   ]
  }
 ],
 "metadata": {
  "kernelspec": {
   "display_name": "Python 3 (ipykernel)",
   "language": "python",
   "name": "python3"
  },
  "language_info": {
   "codemirror_mode": {
    "name": "ipython",
    "version": 3
   },
   "file_extension": ".py",
   "mimetype": "text/x-python",
   "name": "python",
   "nbconvert_exporter": "python",
   "pygments_lexer": "ipython3",
   "version": "3.9.12"
  }
 },
 "nbformat": 4,
 "nbformat_minor": 5
}
